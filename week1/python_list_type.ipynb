{
  "nbformat": 4,
  "nbformat_minor": 0,
  "metadata": {
    "colab": {
      "private_outputs": true,
      "provenance": []
    },
    "kernelspec": {
      "name": "python3",
      "display_name": "Python 3"
    },
    "language_info": {
      "name": "python"
    }
  },
  "cells": [
    {
      "cell_type": "markdown",
      "source": [
        "# Python 내장자료"
      ],
      "metadata": {
        "id": "SunhI1x61dyq"
      }
    },
    {
      "cell_type": "markdown",
      "source": [
        "## 리스트"
      ],
      "metadata": {
        "id": "70-TEwvX1izV"
      }
    },
    {
      "cell_type": "markdown",
      "source": [
        "* [], list()로 만들 수 있다."
      ],
      "metadata": {
        "id": "4ARy10L-1mWF"
      }
    },
    {
      "cell_type": "code",
      "execution_count": null,
      "metadata": {
        "id": "wk-RQlm00pCb"
      },
      "outputs": [],
      "source": [
        "[1,3,5,7,9]"
      ]
    },
    {
      "cell_type": "code",
      "source": [
        "list((1, 3, 5, 7, 9)) # () : 튜플"
      ],
      "metadata": {
        "id": "OrdsD5N51p0j"
      },
      "execution_count": null,
      "outputs": []
    },
    {
      "cell_type": "markdown",
      "source": [
        "* 리스트는 문자, 숫자 자료를 넣을 수 있다. \n",
        "* 또한 혼합할 수 있다.\n",
        "하나의 값만으로 만들 수 있다."
      ],
      "metadata": {
        "id": "PU4JxQ4p1wPQ"
      }
    },
    {
      "cell_type": "code",
      "source": [
        "a = [] # 비어있는 list\n",
        "b = list() # 비어있는 list\n",
        "c = [1] # 하나만 입력 가능\n",
        "d = ['No', 'pain', 'No', 'gain']\n",
        "e = [1, 2, 'No', 'pain'] # 숫자, 문자 혼합\n",
        "f = [1, 2, ['No', 'pain']] # 리스트 안에 리스트 입력"
      ],
      "metadata": {
        "id": "DRNTrQXP1tBb"
      },
      "execution_count": null,
      "outputs": []
    },
    {
      "cell_type": "code",
      "source": [
        "print(a)\n",
        "print(b)\n",
        "print(c)\n",
        "print(d)\n",
        "print(e)\n",
        "print(f)"
      ],
      "metadata": {
        "id": "ehEvrsHk11Cj"
      },
      "execution_count": null,
      "outputs": []
    },
    {
      "cell_type": "markdown",
      "source": [
        "* len() : 리스트에 몇 개의 데이터가 있는 지 확인"
      ],
      "metadata": {
        "id": "keTCtpDV15j_"
      }
    },
    {
      "cell_type": "code",
      "source": [
        "list1 = [1, 3, 5, 7, 9]\n",
        "len(list1)"
      ],
      "metadata": {
        "id": "AumEM85R18kx"
      },
      "execution_count": null,
      "outputs": []
    },
    {
      "cell_type": "markdown",
      "source": [
        "* count() : 특정요소 값 개수세기"
      ],
      "metadata": {
        "id": "mREiIHGn2BWf"
      }
    },
    {
      "cell_type": "code",
      "source": [
        "list1 = [1,2,3,1]\n",
        "list1.count(1)"
      ],
      "metadata": {
        "id": "5VtcEsQG2A6U"
      },
      "execution_count": null,
      "outputs": []
    },
    {
      "cell_type": "markdown",
      "source": [
        "* append() : 데이터 삽입"
      ],
      "metadata": {
        "id": "bOu5etEa2F3z"
      }
    },
    {
      "cell_type": "code",
      "source": [
        "list1.append(1)\n",
        "list1"
      ],
      "metadata": {
        "id": "tiy3tnvR1_F-"
      },
      "execution_count": null,
      "outputs": []
    },
    {
      "cell_type": "markdown",
      "source": [
        "* insert() : 데이터 삽입"
      ],
      "metadata": {
        "id": "KUuBvEox2Lmu"
      }
    },
    {
      "cell_type": "code",
      "source": [
        "list1.insert(3,88) # index가 3인 곳에 88 삽입\n",
        "list1"
      ],
      "metadata": {
        "id": "ahBHs1ke2NG3"
      },
      "execution_count": null,
      "outputs": []
    },
    {
      "cell_type": "markdown",
      "source": [
        "* remove(): 특정 데이터 삭제"
      ],
      "metadata": {
        "id": "K0qLkBQj2QLf"
      }
    },
    {
      "cell_type": "code",
      "source": [
        "list1.remove(1)\n",
        "list1"
      ],
      "metadata": {
        "id": "jB1OVlCM2TYY"
      },
      "execution_count": null,
      "outputs": []
    },
    {
      "cell_type": "markdown",
      "source": [
        "* clear() : 리스트 전체 삭제"
      ],
      "metadata": {
        "id": "YVvuL6Hg2TK1"
      }
    },
    {
      "cell_type": "code",
      "source": [
        "list1.clear()"
      ],
      "metadata": {
        "id": "XU3w4s482Wdf"
      },
      "execution_count": null,
      "outputs": []
    },
    {
      "cell_type": "code",
      "source": [
        "list1"
      ],
      "metadata": {
        "id": "dwZ4Jmin2a9e"
      },
      "execution_count": null,
      "outputs": []
    },
    {
      "cell_type": "markdown",
      "source": [
        "* reverse() : 뒤집기"
      ],
      "metadata": {
        "id": "iJcR9GJ82dEi"
      }
    },
    {
      "cell_type": "code",
      "source": [
        "list1 = [1,2,3,1]\n",
        "list1.reverse()\n",
        "list1"
      ],
      "metadata": {
        "id": "lRBGyNi72iei"
      },
      "execution_count": null,
      "outputs": []
    },
    {
      "cell_type": "markdown",
      "source": [
        "* sort() : 정렬"
      ],
      "metadata": {
        "id": "UcG6Mh-R2htc"
      }
    },
    {
      "cell_type": "code",
      "source": [
        "list1.sort() # 오름차순\n",
        "list1"
      ],
      "metadata": {
        "id": "LFftJMom2rRS"
      },
      "execution_count": null,
      "outputs": []
    },
    {
      "cell_type": "markdown",
      "source": [
        "* 리스트의 인덱싱"
      ],
      "metadata": {
        "id": "QPGEoqYB2sdf"
      }
    },
    {
      "cell_type": "code",
      "source": [
        "list1 = [1,3,4,5,6]"
      ],
      "metadata": {
        "id": "AL2_G8S52vIN"
      },
      "execution_count": null,
      "outputs": []
    },
    {
      "cell_type": "code",
      "source": [
        "list1[0] + list1[-1]"
      ],
      "metadata": {
        "id": "LCbgXcNK2xAI"
      },
      "execution_count": null,
      "outputs": []
    },
    {
      "cell_type": "markdown",
      "source": [
        "* 리스트에 숫자 1, 2, 3과 또 다른 리스트인 ['a', 'b', 'c']를 포함"
      ],
      "metadata": {
        "id": "Wtme0fEB23CK"
      }
    },
    {
      "cell_type": "code",
      "source": [
        "list3 = [1, 2, 3, ['a', 'b', 'c']]\n",
        "list3"
      ],
      "metadata": {
        "id": "Bw9FqsTh23_r"
      },
      "execution_count": null,
      "outputs": []
    },
    {
      "cell_type": "markdown",
      "source": [
        "* 리스트에 포함된 ['a', 'b', 'c'] 리스트에서 'a' 값을 인덱싱을 사용해 끄집어낼 수 있는 방법"
      ],
      "metadata": {
        "id": "bDRzQ9Ml29_Y"
      }
    },
    {
      "cell_type": "code",
      "source": [
        "list3[3][0]"
      ],
      "metadata": {
        "id": "p7b372h83Ala"
      },
      "execution_count": null,
      "outputs": []
    },
    {
      "cell_type": "markdown",
      "source": [
        "* 리스트 슬라이싱"
      ],
      "metadata": {
        "id": "Rl49ni733x2_"
      }
    },
    {
      "cell_type": "code",
      "source": [
        "list4 = [1, 2, 3, 4, 5]\n",
        "list4[0:3]"
      ],
      "metadata": {
        "id": "_vMcIhuH3zlj"
      },
      "execution_count": null,
      "outputs": []
    },
    {
      "cell_type": "markdown",
      "source": [
        "## 딕션너리"
      ],
      "metadata": {
        "id": "8585tF3o32Ji"
      }
    },
    {
      "cell_type": "code",
      "source": [
        "score = {'math': 90, 'english': 85}\n",
        "score"
      ],
      "metadata": {
        "id": "khYkldSi38r2"
      },
      "execution_count": null,
      "outputs": []
    },
    {
      "cell_type": "code",
      "source": [
        "a = {99: ['apple',1,2,3]} # Value에 리스트도 넣을 수 있다.\n",
        "a"
      ],
      "metadata": {
        "id": "VYaBO1nI3-Oe"
      },
      "execution_count": null,
      "outputs": []
    },
    {
      "cell_type": "markdown",
      "source": [
        "* 딕션너리 데이터 소환"
      ],
      "metadata": {
        "id": "Gcnz-EdJ4MY4"
      }
    },
    {
      "cell_type": "code",
      "source": [
        "score['math']"
      ],
      "metadata": {
        "id": "XT8OMXMk394Z"
      },
      "execution_count": null,
      "outputs": []
    },
    {
      "cell_type": "markdown",
      "source": [
        "* keys()"
      ],
      "metadata": {
        "id": "GTyIgv8g4RsM"
      }
    },
    {
      "cell_type": "code",
      "source": [
        "score.keys()"
      ],
      "metadata": {
        "id": "OcyMjfyq4SpE"
      },
      "execution_count": null,
      "outputs": []
    },
    {
      "cell_type": "markdown",
      "source": [
        "* value()"
      ],
      "metadata": {
        "id": "2d5dlAAL4VgU"
      }
    },
    {
      "cell_type": "code",
      "source": [
        "score.values()"
      ],
      "metadata": {
        "id": "_9Cfs35_4X7B"
      },
      "execution_count": null,
      "outputs": []
    },
    {
      "cell_type": "markdown",
      "source": [
        "## 튜플"
      ],
      "metadata": {
        "id": "XkGQg58z4cAX"
      }
    },
    {
      "cell_type": "code",
      "source": [
        "tp1 = ()\n",
        "tp1"
      ],
      "metadata": {
        "id": "DOv7Qvwx4hEJ"
      },
      "execution_count": null,
      "outputs": []
    },
    {
      "cell_type": "code",
      "source": [
        "tp2 = (1, 2, 3)\n",
        "tp2"
      ],
      "metadata": {
        "id": "keRynzTD4lMI"
      },
      "execution_count": null,
      "outputs": []
    },
    {
      "cell_type": "code",
      "source": [
        "tp4 = 1 # 튜플이 아님.\n",
        "tp4"
      ],
      "metadata": {
        "id": "zwudSO0m4mU8"
      },
      "execution_count": null,
      "outputs": []
    },
    {
      "cell_type": "code",
      "source": [
        "# tp4 = (1)\n",
        "tp4 = (1,) # 값이 1개인 튜플 생성시 뒤에 콤마 필수\n",
        "tp4"
      ],
      "metadata": {
        "id": "unKDSiCj4puW"
      },
      "execution_count": null,
      "outputs": []
    },
    {
      "cell_type": "code",
      "source": [
        "tp5 = ('a', 'b', ('ab', 'cd')) # 튜플이 튜플을 가질 수 있다.\n",
        "tp5"
      ],
      "metadata": {
        "id": "-OG3CcCy426o"
      },
      "execution_count": null,
      "outputs": []
    },
    {
      "cell_type": "markdown",
      "source": [
        "# 연습문제"
      ],
      "metadata": {
        "id": "xarBpLpn7Yj2"
      }
    },
    {
      "cell_type": "markdown",
      "source": [
        "* 문제) a 리스트에서 'a','b'를 추출해보자. a = [1, 2, 3, ['a', 'b', 'c'], 4, 5]"
      ],
      "metadata": {
        "id": "QnoRKzSx7aAL"
      }
    },
    {
      "cell_type": "code",
      "source": [
        "a = [1,2,3,['a','b','c'],4,5]"
      ],
      "metadata": {
        "id": "OzdL_fpS45_Q"
      },
      "execution_count": null,
      "outputs": []
    },
    {
      "cell_type": "code",
      "source": [
        "print(a[3][0:2])"
      ],
      "metadata": {
        "id": "zU_qS6JV7hE7"
      },
      "execution_count": null,
      "outputs": []
    }
  ]
}

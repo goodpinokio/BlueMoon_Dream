{
  "nbformat": 4,
  "nbformat_minor": 0,
  "metadata": {
    "colab": {
      "private_outputs": true,
      "provenance": []
    },
    "kernelspec": {
      "name": "python3",
      "display_name": "Python 3"
    },
    "language_info": {
      "name": "python"
    }
  },
  "cells": [
    {
      "cell_type": "markdown",
      "source": [
        "\n",
        "# 문제1) 짝수 홀수를 판별하는 조건문 완성하기"
      ],
      "metadata": {
        "id": "RE4gvKMhlLUb"
      }
    },
    {
      "cell_type": "code",
      "execution_count": null,
      "metadata": {
        "id": "fDSA1D5KbFmN"
      },
      "outputs": [],
      "source": [
        "a = int(input())\n",
        "if a%2==0:\n",
        "    print('짝수')\n",
        "else:\n",
        "    print(\"홀수\")"
      ]
    },
    {
      "cell_type": "markdown",
      "source": [
        "문제2) 음수/양수 판별 음수 양수를 판별하는 조건문을 완성하라\n"
      ],
      "metadata": {
        "id": "oxocNjE9lmVi"
      }
    },
    {
      "cell_type": "code",
      "source": [
        "a= int(input())\n",
        "\n",
        "if a<0:\n",
        "    print('음수')\n",
        "else:\n",
        "    print('양수')"
      ],
      "metadata": {
        "id": "RasVbENvlsbR"
      },
      "execution_count": null,
      "outputs": []
    },
    {
      "cell_type": "markdown",
      "source": [
        "문제) A학급 총 10명의 학생 이 학생들의 중간고사의 평균"
      ],
      "metadata": {
        "id": "i5sjUZCgzliT"
      }
    },
    {
      "cell_type": "code",
      "source": [
        "a = [70,60,55,75,9,5,90,80,80,85,100]\n",
        "b = sum(a)\n",
        "print('중간고사 평균은{}',b/len(a))"
      ],
      "metadata": {
        "id": "QBciMLNoz9bD"
      },
      "execution_count": null,
      "outputs": []
    },
    {
      "cell_type": "markdown",
      "source": [
        "#주어진 자연수가 홀수가 맞는지 판별해 주는 함수 (is_odd)를 작성하자"
      ],
      "metadata": {
        "id": "9gcjXghIz9Rj"
      }
    },
    {
      "cell_type": "code",
      "source": [
        "a = int(input())\n",
        "\n",
        "def is_odd(num):\n",
        "    if num%2==0:\n",
        "        print(False)\n",
        "    else:\n",
        "        print(True)\n",
        "\n",
        "is_odd(a)\n",
        "    "
      ],
      "metadata": {
        "id": "XTP1AsIa-RJZ"
      },
      "execution_count": null,
      "outputs": []
    },
    {
      "cell_type": "markdown",
      "source": [
        "# 연습문제 리스트의 각 요소값에 2가 곱해진 리스트를 구하여라\n",
        "리스트는 [1,2,3,4]"
      ],
      "metadata": {
        "id": "WIMmTkhkHw2z"
      }
    },
    {
      "cell_type": "code",
      "source": [
        "a=[1,2,3,4]\n",
        "\n",
        "def a_list(x):\n",
        "    for i in range(len(x)):\n",
        "        x[i] *= 2\n",
        "    return x\n",
        "\n",
        "a_list(a)"
      ],
      "metadata": {
        "id": "CcSo9hbikI0T"
      },
      "execution_count": null,
      "outputs": []
    }
  ]
}
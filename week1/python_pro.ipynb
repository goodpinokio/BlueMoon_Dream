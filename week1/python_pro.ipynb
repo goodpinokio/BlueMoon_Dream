{
  "nbformat": 4,
  "nbformat_minor": 0,
  "metadata": {
    "colab": {
      "private_outputs": true,
      "provenance": []
    },
    "kernelspec": {
      "name": "python3",
      "display_name": "Python 3"
    },
    "language_info": {
      "name": "python"
    }
  },
  "cells": [
    {
      "cell_type": "markdown",
      "source": [
        "# 주민 등록번호 생성기"
      ],
      "metadata": {
        "id": "HyDdc6oB6O5V"
      }
    },
    {
      "cell_type": "code",
      "execution_count": null,
      "metadata": {
        "id": "_difJF7X6G--"
      },
      "outputs": [],
      "source": [
        "import random as rd"
      ]
    },
    {
      "cell_type": "code",
      "source": [
        "import matplotlib.pyplot as plt\n",
        "plt.rcParams['font.family'] = 'NanumGothic'  # 원하는 폰트명으로 변경\n",
        "\n",
        "from IPython.display import display\n",
        "display(\"한글 출력\")\n"
      ],
      "metadata": {
        "id": "tpnA3unEtnP5"
      },
      "execution_count": null,
      "outputs": []
    },
    {
      "cell_type": "code",
      "source": [
        "person_list_num = [0,0,0,0,0,0,0,0,0,0,0,0,0]\n",
        "for i in range(13):\n",
        "    # if person_list_num[6]:\n",
        "    #     pass\n",
        "\n",
        "    person_list_num[i] = rd.randrange(1,9)\n",
        "\n",
        "print('주민등록번호 :')\n",
        "print(person_list_num)"
      ],
      "metadata": {
        "id": "1m6EzyHz7IS7"
      },
      "execution_count": null,
      "outputs": []
    },
    {
      "cell_type": "markdown",
      "source": [
        "# 주민번호 판독 프로그래밍\n"
      ],
      "metadata": {
        "id": "wemnTaV9np7K"
      }
    },
    {
      "cell_type": "code",
      "source": [
        "RRN = '9911061233412'\n",
        "\n",
        "birth_year = RRN[0:2]\n",
        "print('생년월일은:', birth_year)\n",
        "\n",
        "check_sex = RRN[6]\n",
        "if check_sex == '1':\n",
        "    print('남자입니다.')\n",
        "else:\n",
        "    print('여자입니다.')\n",
        "\n",
        "region = RRN[7:9]\n",
        "region = int(region)\n",
        "\n",
        "if region >= 0 and region <= 8:\n",
        "    print('서울 사람입니다.')\n",
        "elif region > 8 and region <= 12:\n",
        "    print('부산 사람입니다.')\n",
        "elif region > 12 and region <= 15:\n",
        "    print('인천광역시 사람입니다.')\n",
        "elif region > 15 and region <= 25:\n",
        "    print('경기도 사람입니다.')\n",
        "elif region > 25 and region <= 34:\n",
        "    print('강원도 사람입니다.')\n",
        "elif region > 35 and region <= 39:\n",
        "    print('충청북도 사람입니다.')\n",
        "elif region == 40:\n",
        "    print('대전광역시 사람입니다.')\n",
        "elif region > 40 and region <= 43 or region > 44 and region <= 47:\n",
        "    print('충청남도 사람입니다.')\n",
        "elif region == 44 or region == 96:\n",
        "    print('세종특별자치시 사람입니다.')\n",
        "else:\n",
        "    print('타지역 사람입니다.')\n",
        "\n",
        "print('주민등록번호 규칙')\n",
        "\n",
        "\n",
        "digits_without_verification = RRN[:-1]  # 검증번호를 제외한 숫자 부분\n",
        "\n",
        "weights = [2, 3, 4, 5, 6, 7, 8, 9, 2, 3, 4, 5]  # 가중치\n",
        "total = sum(int(digit) * weight for digit, weight in zip(digits_without_verification, weights))\n",
        "remainder = total % 11\n",
        "verification_digit = str(11 - remainder if remainder < 11 else 0)\n",
        "\n",
        "print(\"검증번호:\", verification_digit)\n",
        "\n",
        "last_RRN_value = int(RRN[-1])\n",
        "if last_RRN_value == verification_digit:\n",
        "    print('검증 성공')\n",
        "else:\n",
        "    print('검증실패')\n",
        "\n"
      ],
      "metadata": {
        "id": "H2YkFQJjoAID"
      },
      "execution_count": null,
      "outputs": []
    }
  ]
}
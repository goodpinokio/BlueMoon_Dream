{
  "nbformat": 4,
  "nbformat_minor": 0,
  "metadata": {
    "colab": {
      "private_outputs": true,
      "provenance": [],
      "toc_visible": true
    },
    "kernelspec": {
      "name": "python3",
      "display_name": "Python 3"
    },
    "language_info": {
      "name": "python"
    }
  },
  "cells": [
    {
      "cell_type": "markdown",
      "source": [
        "#변수지정"
      ],
      "metadata": {
        "id": "jhMghAawfeIc"
      }
    },
    {
      "cell_type": "markdown",
      "source": [
        "* 영문자나 언더바(_)로 시작한다\n",
        "* 대,소문자를 구분한다\n",
        "* 첫 자리 이후에는 영문자와 숫자를 모두 사용할 수 없다\n",
        "* 한글이 들어간 변수명도 가능하다"
      ],
      "metadata": {
        "id": "WYA_gZi5fkeF"
      }
    },
    {
      "cell_type": "code",
      "execution_count": null,
      "metadata": {
        "id": "dfjyjsySe-r7"
      },
      "outputs": [],
      "source": [
        "A=11\n",
        "print(A)"
      ]
    },
    {
      "cell_type": "code",
      "source": [
        "a = A\n",
        "print(a)"
      ],
      "metadata": {
        "id": "RDt-rhzDghq9"
      },
      "execution_count": null,
      "outputs": []
    },
    {
      "cell_type": "code",
      "source": [
        "x = 1\n",
        "y = 2"
      ],
      "metadata": {
        "id": "F4tRNkU7gjbT"
      },
      "execution_count": null,
      "outputs": []
    },
    {
      "cell_type": "code",
      "source": [
        "print(x+y)"
      ],
      "metadata": {
        "id": "VM7Y5rbogzhR"
      },
      "execution_count": null,
      "outputs": []
    },
    {
      "cell_type": "markdown",
      "source": [
        "* 변수명은 의미 있는 단어로 정하는 것이 좋다 "
      ],
      "metadata": {
        "id": "ddFoTAbZhDTU"
      }
    },
    {
      "cell_type": "code",
      "source": [
        "y=10\n",
        "print(x+y)"
      ],
      "metadata": {
        "id": "R3cWNLM9g6my"
      },
      "execution_count": null,
      "outputs": []
    },
    {
      "cell_type": "markdown",
      "source": [
        "* 변수의 연산을 또 다른 변수에 할당 가능하다"
      ],
      "metadata": {
        "id": "sJAAZ0emhRO7"
      }
    },
    {
      "cell_type": "code",
      "source": [
        "count = 97\n",
        "price = 100\n",
        "count * price"
      ],
      "metadata": {
        "id": "F_FuVTWqhwJk"
      },
      "execution_count": null,
      "outputs": []
    },
    {
      "cell_type": "code",
      "source": [
        "count = 96\n",
        "price = 100\n",
        "total = count * price\n",
        "total"
      ],
      "metadata": {
        "id": "RqKw2B2WhxV9"
      },
      "execution_count": null,
      "outputs": []
    },
    {
      "cell_type": "code",
      "source": [
        "a = b = c = 1"
      ],
      "metadata": {
        "id": "3arl9Vs0h457"
      },
      "execution_count": null,
      "outputs": []
    },
    {
      "cell_type": "code",
      "source": [
        "c"
      ],
      "metadata": {
        "id": "_d58yp4rh5Uj"
      },
      "execution_count": null,
      "outputs": []
    },
    {
      "cell_type": "code",
      "source": [
        "a,b,c = 1,2,'apple'"
      ],
      "metadata": {
        "id": "0BmUr5fFiBIv"
      },
      "execution_count": null,
      "outputs": []
    },
    {
      "cell_type": "code",
      "source": [
        "c"
      ],
      "metadata": {
        "id": "j7dYTAGTiBeh"
      },
      "execution_count": null,
      "outputs": []
    },
    {
      "cell_type": "markdown",
      "source": [
        "* del()함수를 사용하여 변수를 삭제 가능하다"
      ],
      "metadata": {
        "id": "R90rN4UFiGYj"
      }
    },
    {
      "cell_type": "code",
      "source": [
        "count"
      ],
      "metadata": {
        "id": "OjfhrFwiiBop"
      },
      "execution_count": null,
      "outputs": []
    },
    {
      "cell_type": "code",
      "source": [
        "del(count)"
      ],
      "metadata": {
        "id": "0WY7Y62RiPnP"
      },
      "execution_count": null,
      "outputs": []
    },
    {
      "cell_type": "code",
      "source": [
        "# ctrl+/ 주석"
      ],
      "metadata": {
        "id": "lxaOoVctifpI"
      },
      "execution_count": null,
      "outputs": []
    },
    {
      "cell_type": "markdown",
      "source": [
        "# 데이터 유형"
      ],
      "metadata": {
        "id": "RgdThBJwihR6"
      }
    },
    {
      "cell_type": "markdown",
      "source": [
        "## 문자형 자료"
      ],
      "metadata": {
        "id": "l4C0OPJfi0-3"
      }
    },
    {
      "cell_type": "markdown",
      "source": [
        "* 문자형 str\n",
        "* 숫자형 int,float\n",
        "* Bool형 참,거짓"
      ],
      "metadata": {
        "id": "j4qDW3aRi7uq"
      }
    },
    {
      "cell_type": "code",
      "source": [
        "'You need Python'"
      ],
      "metadata": {
        "id": "x4e6vJFQiwwU"
      },
      "execution_count": null,
      "outputs": []
    },
    {
      "cell_type": "code",
      "source": [
        "type('You need Python')"
      ],
      "metadata": {
        "id": "TjWlFr2GjHMu"
      },
      "execution_count": null,
      "outputs": []
    },
    {
      "cell_type": "markdown",
      "source": [
        "## 숫자형 자료"
      ],
      "metadata": {
        "id": "KEwWaSmBjNZV"
      }
    },
    {
      "cell_type": "markdown",
      "source": [
        "* 정수형"
      ],
      "metadata": {
        "id": "5-KuG_g4jRbi"
      }
    },
    {
      "cell_type": "code",
      "source": [
        "a= +123\n",
        "b = -178\n",
        "type(a)"
      ],
      "metadata": {
        "id": "zbcS004PjMao"
      },
      "execution_count": null,
      "outputs": []
    },
    {
      "cell_type": "markdown",
      "source": [
        "* 실수형"
      ],
      "metadata": {
        "id": "iuroat4qjZrt"
      }
    },
    {
      "cell_type": "code",
      "source": [
        "a=1.2\n",
        "b=-3.45\n",
        "type(a)"
      ],
      "metadata": {
        "id": "DOYAfAJAjZS2"
      },
      "execution_count": null,
      "outputs": []
    },
    {
      "cell_type": "code",
      "source": [
        "a = 0o177\n",
        "b = 127"
      ],
      "metadata": {
        "id": "DdbbVBzFjhO8"
      },
      "execution_count": null,
      "outputs": []
    },
    {
      "cell_type": "code",
      "source": [
        "a"
      ],
      "metadata": {
        "id": "CC-EE_gFjsO1"
      },
      "execution_count": null,
      "outputs": []
    },
    {
      "cell_type": "markdown",
      "source": [
        "* bool형 "
      ],
      "metadata": {
        "id": "3eGz4yRDkMQZ"
      }
    },
    {
      "cell_type": "code",
      "source": [
        "True"
      ],
      "metadata": {
        "id": "NAD_gybqkPBr"
      },
      "execution_count": null,
      "outputs": []
    },
    {
      "cell_type": "code",
      "source": [
        "False"
      ],
      "metadata": {
        "id": "RbxZHFekkQqC"
      },
      "execution_count": null,
      "outputs": []
    },
    {
      "cell_type": "code",
      "source": [
        "type(False) "
      ],
      "metadata": {
        "id": "zmKjU9-fkVvq"
      },
      "execution_count": null,
      "outputs": []
    },
    {
      "cell_type": "code",
      "source": [
        "1>2"
      ],
      "metadata": {
        "id": "bumbNuaGkWGJ"
      },
      "execution_count": null,
      "outputs": []
    },
    {
      "cell_type": "code",
      "source": [
        "1<2"
      ],
      "metadata": {
        "id": "qFQElDwgkcQy"
      },
      "execution_count": null,
      "outputs": []
    },
    {
      "cell_type": "markdown",
      "source": [
        "# 문자형 자료"
      ],
      "metadata": {
        "id": "ih0d5O8xkqJS"
      }
    },
    {
      "cell_type": "markdown",
      "source": [
        "* 문자열(String)이란 문자,단어 등으로 구성된 문자들의 집합을 의미한다. 예를 들어 다음과 같은 것들이 문자열이다."
      ],
      "metadata": {
        "id": "wQyO3QrYksgX"
      }
    },
    {
      "cell_type": "code",
      "source": [
        "'You Need Python'\n",
        "'a'\n",
        "'123'"
      ],
      "metadata": {
        "id": "i0hVkZg3kcfx"
      },
      "execution_count": null,
      "outputs": []
    },
    {
      "cell_type": "code",
      "source": [
        "print('You Need Python')\n",
        "print('a')\n",
        "print('123')"
      ],
      "metadata": {
        "id": "IKR2f_Gnkj9V"
      },
      "execution_count": null,
      "outputs": []
    },
    {
      "cell_type": "markdown",
      "source": [
        "## 문자열을 만드는 방법"
      ],
      "metadata": {
        "id": "JpI76CuWk8Ws"
      }
    },
    {
      "cell_type": "markdown",
      "source": [
        "* 작은 따옴표: '\n",
        "* 큰 따옴표: \"\n",
        "* 작은 따옴표 3개: '''\n",
        "* 큰 따옴표 3개: \"\"\"\n"
      ],
      "metadata": {
        "id": "mCeuwd5bk-pq"
      }
    },
    {
      "cell_type": "code",
      "source": [
        "'You Need Python'"
      ],
      "metadata": {
        "id": "w6xxOUYtk4aI"
      },
      "execution_count": null,
      "outputs": []
    },
    {
      "cell_type": "code",
      "source": [
        "\"You Need Python\""
      ],
      "metadata": {
        "id": "9rtatDWJk6r1"
      },
      "execution_count": null,
      "outputs": []
    },
    {
      "cell_type": "code",
      "source": [
        "\"\"\"You Need Python\"\"\""
      ],
      "metadata": {
        "id": "KwDiTBM3k60U"
      },
      "execution_count": null,
      "outputs": []
    },
    {
      "cell_type": "code",
      "source": [
        "'''You Need Python'''"
      ],
      "metadata": {
        "id": "HUJYgmPrlVQf"
      },
      "execution_count": null,
      "outputs": []
    },
    {
      "cell_type": "markdown",
      "source": [
        "## 문자열 변경"
      ],
      "metadata": {
        "id": "vcifMfgLogMn"
      }
    },
    {
      "cell_type": "markdown",
      "source": [
        "* upper(): 소문자를 대문자로 변경\n",
        "* lower(): 대문자를 소문자로 변경\n",
        "* lstrip() : 왼쪽공백 제거\n",
        "* rstrip(): 오른쪽공백 제거\n",
        "* strip(): 양쪽공백 제거"
      ],
      "metadata": {
        "id": "Gxlmr-VHoh6B"
      }
    },
    {
      "cell_type": "code",
      "source": [
        "a = 'APpple'\n",
        "a.upper()"
      ],
      "metadata": {
        "id": "6--ggdj8ofAM"
      },
      "execution_count": null,
      "outputs": []
    },
    {
      "cell_type": "code",
      "source": [
        "a.lower()"
      ],
      "metadata": {
        "id": "T1kmyjDZo75k"
      },
      "execution_count": null,
      "outputs": []
    },
    {
      "cell_type": "markdown",
      "source": [
        "* replace(): 문자열 바꾸기\n",
        "* split(): 문자열 나누기"
      ],
      "metadata": {
        "id": "mOvE7eA7pAH9"
      }
    },
    {
      "cell_type": "code",
      "source": [
        "a = 'a_b_c_d'\n",
        "a.replace('_', '-')"
      ],
      "metadata": {
        "id": "pTNAvq-JpQOD"
      },
      "execution_count": null,
      "outputs": []
    },
    {
      "cell_type": "code",
      "source": [
        "a.split('_')"
      ],
      "metadata": {
        "id": "O_qdGwjkpU4b"
      },
      "execution_count": null,
      "outputs": []
    },
    {
      "cell_type": "markdown",
      "source": [
        "* join(): 문자열 합치기"
      ],
      "metadata": {
        "id": "jxKDCE2epZwi"
      }
    },
    {
      "cell_type": "code",
      "source": [
        "a = ['ㄱ','ㄴ','ㄷ','ㄹ']"
      ],
      "metadata": {
        "id": "kYRgT8ybpCx0"
      },
      "execution_count": null,
      "outputs": []
    },
    {
      "cell_type": "code",
      "source": [
        "''.join(a)"
      ],
      "metadata": {
        "id": "L9BpuiMVpG-t"
      },
      "execution_count": null,
      "outputs": []
    },
    {
      "cell_type": "code",
      "source": [
        "':'.join(a)"
      ],
      "metadata": {
        "id": "uDhOrBI3pff_"
      },
      "execution_count": null,
      "outputs": []
    },
    {
      "cell_type": "markdown",
      "source": [
        "* format(): formatting 함수"
      ],
      "metadata": {
        "id": "IXkZPbR0pjYo"
      }
    },
    {
      "cell_type": "code",
      "source": [
        "'오늘 온도는 {}도 입니다.'.format(3)"
      ],
      "metadata": {
        "id": "SOsHpQotpkv6"
      },
      "execution_count": null,
      "outputs": []
    },
    {
      "cell_type": "code",
      "source": [
        "day = '7일'\n",
        "number = 10\n",
        "'{} 온도는 {}도 입니다.'.format(day, number)"
      ],
      "metadata": {
        "id": "0lkhTouopptB"
      },
      "execution_count": null,
      "outputs": []
    },
    {
      "cell_type": "markdown",
      "source": [
        "* f : 문자열"
      ],
      "metadata": {
        "id": "mWanx4P2pt8G"
      }
    },
    {
      "cell_type": "code",
      "source": [
        "print(f'{day} 온도는 {number}도 입니다.')"
      ],
      "metadata": {
        "id": "frkNY56MpvEw"
      },
      "execution_count": null,
      "outputs": []
    },
    {
      "cell_type": "markdown",
      "source": [
        "# 문자열 연습문제"
      ],
      "metadata": {
        "id": "ki525Jqvp6o6"
      }
    },
    {
      "cell_type": "code",
      "source": [
        "ID='870612-1535200'\n",
        "if ID[7]=='1':\n",
        "    print('man')\n",
        "else:\n",
        "    print('woman')"
      ],
      "metadata": {
        "id": "GFzd9X4Bp9qP"
      },
      "execution_count": null,
      "outputs": []
    },
    {
      "cell_type": "code",
      "source": [
        "a = ['No', 'pain', 'No', 'gain']\n",
        "\n",
        "' '.join(a)"
      ],
      "metadata": {
        "id": "63zH1_V3qsgt"
      },
      "execution_count": null,
      "outputs": []
    },
    {
      "cell_type": "code",
      "source": [
        "a = \"a:b:c:d\"\n",
        "a.replace(':','-')"
      ],
      "metadata": {
        "id": "mUGCC49dq4y8"
      },
      "execution_count": null,
      "outputs": []
    },
    {
      "cell_type": "markdown",
      "source": [
        "* 문제4) 문자형 포매팅\n",
        "* a = 3, b = 2 라는 값이 할당되어 있다.\n",
        "구구단 3 x 2 = 6의 결과를 a,b 변수와, format 함수를 사용하여 출력해 보자.\n",
        "단, 6은 2*3 곱셈 연산기호를 이용하여 출력\n",
        "출력 결과물 : 구구단 3 x 2 = 6"
      ],
      "metadata": {
        "id": "CxvZrojtrPb7"
      }
    },
    {
      "cell_type": "code",
      "source": [
        "a = 3\n",
        "b = 2"
      ],
      "metadata": {
        "id": "m_-SVIEZrN_c"
      },
      "execution_count": null,
      "outputs": []
    },
    {
      "cell_type": "code",
      "source": [
        "print('구구단 {} x {} = {}'.format(a,b,a*b))"
      ],
      "metadata": {
        "id": "g_WigrkyrOJ7"
      },
      "execution_count": null,
      "outputs": []
    },
    {
      "cell_type": "markdown",
      "source": [
        "# 연산자\n"
      ],
      "metadata": {
        "id": "kYgzRDbeuyaX"
      }
    },
    {
      "cell_type": "markdown",
      "source": [
        "## 사칙연산자"
      ],
      "metadata": {
        "id": "WSaHYHx7uzzg"
      }
    },
    {
      "cell_type": "code",
      "source": [
        "print(123 + 456) #덧셈\n",
        "print(200 - 192) #뺄셈\n",
        "print(10 - 210)\n",
        "print(100 * 1004) #곱셈\n",
        "print(-3 * 2048)\n",
        "print(3 * -2048)\n",
        "print(2 ** 3) #거듭제곱 2의3승\n",
        "print(33 / 5) #나누기\n",
        "print(33 // 5) #정수 부분의 값(몫)\n",
        "print(33 % 5) #몫이 아닌 나머지를 구함"
      ],
      "metadata": {
        "id": "U2BKOAJ8u2bp"
      },
      "execution_count": null,
      "outputs": []
    },
    {
      "cell_type": "markdown",
      "source": [
        "* 연산자의 우선순위\n",
        " * 부호 > 곱셈,나눗셈 > 덧셈,뺄셈\n",
        " * 괄호가 있다면 괄호먼저 계산\n"
      ],
      "metadata": {
        "id": "I04r3g39u6uU"
      }
    },
    {
      "cell_type": "code",
      "source": [
        "print(3 + 2 * 2)\n",
        "print((3 + 2) * 2)"
      ],
      "metadata": {
        "id": "TdN9wiPAu47_"
      },
      "execution_count": null,
      "outputs": []
    },
    {
      "cell_type": "markdown",
      "source": [
        "## 비교연산자"
      ],
      "metadata": {
        "id": "x5Imm6QZvI6i"
      }
    },
    {
      "cell_type": "code",
      "source": [
        "x = 3\n",
        "y = 4\n",
        "print(x > y)\n",
        "print(x < y)\n",
        "print(x >= y)\n",
        "print(x <= y)\n",
        "print(x == y)\n",
        "print(x != y)"
      ],
      "metadata": {
        "id": "MGJhaUN-vGy8"
      },
      "execution_count": null,
      "outputs": []
    },
    {
      "cell_type": "markdown",
      "source": [
        "## 논리연산자"
      ],
      "metadata": {
        "id": "GF4WpMBdvSdy"
      }
    },
    {
      "cell_type": "markdown",
      "source": [
        "* and / or / not\n"
      ],
      "metadata": {
        "id": "vRz-iJ-QvVH7"
      }
    },
    {
      "cell_type": "markdown",
      "source": [
        "* and : 둘다 참일 때만 True"
      ],
      "metadata": {
        "id": "HoBzu61ava_1"
      }
    },
    {
      "cell_type": "code",
      "source": [
        "print(1<5 and 2<5) # True and True = True"
      ],
      "metadata": {
        "id": "F1zFHJxlvPmG"
      },
      "execution_count": null,
      "outputs": []
    },
    {
      "cell_type": "markdown",
      "source": [
        "* or : 둘 중 하나만 참일때도 True"
      ],
      "metadata": {
        "id": "UACvOMDHve3K"
      }
    },
    {
      "cell_type": "code",
      "source": [
        "print(True or False)\n",
        "print(False or True)\n",
        "print(False or False)\n",
        "print(True or True)"
      ],
      "metadata": {
        "id": "b_8jjK8AvhjR"
      },
      "execution_count": null,
      "outputs": []
    },
    {
      "cell_type": "markdown",
      "source": [
        "* not : 논리 반전"
      ],
      "metadata": {
        "id": "2h4KfAbLvk03"
      }
    },
    {
      "cell_type": "code",
      "source": [
        "print(not True)\n",
        "print(not False)"
      ],
      "metadata": {
        "id": "WrxA1BlsvkdN"
      },
      "execution_count": null,
      "outputs": []
    },
    {
      "cell_type": "markdown",
      "source": [
        "## 대입연산자"
      ],
      "metadata": {
        "id": "WMVxxU21vsvF"
      }
    },
    {
      "cell_type": "markdown",
      "source": [
        "* 숫자형 자료의 대입연산자"
      ],
      "metadata": {
        "id": "IKIH135bwGBj"
      }
    },
    {
      "cell_type": "code",
      "source": [
        "a = 10 \n",
        "b = 2"
      ],
      "metadata": {
        "id": "_pyFGxinwMDH"
      },
      "execution_count": null,
      "outputs": []
    },
    {
      "cell_type": "code",
      "source": [
        "b += a\n",
        "print(b) # b = b + a"
      ],
      "metadata": {
        "id": "UTmlG98QwLVg"
      },
      "execution_count": null,
      "outputs": []
    },
    {
      "cell_type": "code",
      "source": [
        "b -= a # b = b - a\n",
        "print(b)"
      ],
      "metadata": {
        "id": "ebJFaf7KwUB8"
      },
      "execution_count": null,
      "outputs": []
    },
    {
      "cell_type": "markdown",
      "source": [
        "# 연산자 연습문제"
      ],
      "metadata": {
        "id": "a6cjN507wcqH"
      }
    },
    {
      "cell_type": "markdown",
      "source": [
        "## 문제) 숫자형자료, 연산"
      ],
      "metadata": {
        "id": "mKJ34j-8wig2"
      }
    },
    {
      "cell_type": "markdown",
      "source": [
        "* 10의 제곱 출력하기"
      ],
      "metadata": {
        "id": "Z4V3XId9wnjp"
      }
    },
    {
      "cell_type": "code",
      "source": [
        "print(10**2)"
      ],
      "metadata": {
        "id": "jL4DUp96wo5b"
      },
      "execution_count": null,
      "outputs": []
    },
    {
      "cell_type": "markdown",
      "source": [
        "## 문제) 숫자형자료, 변수"
      ],
      "metadata": {
        "id": "-KGIhe1-ws_3"
      }
    },
    {
      "cell_type": "markdown",
      "source": [
        "* 사과가 5개 바나나가 6개 있을 때 총 과일의 갯수를 출력하여라.\n",
        "* 단, 사과는 apple, 바나나는 banana라는 변수에 할당 한 후 ,\n",
        "* 총 과일의 갯수는 total이라는 변수에 할당하라."
      ],
      "metadata": {
        "id": "9FQUi9zzwv8Q"
      }
    },
    {
      "cell_type": "code",
      "source": [
        "apple = 5\n",
        "banana = 6 \n",
        "total = apple + banana\n",
        "print(total)"
      ],
      "metadata": {
        "id": "SdBAmLIJw3YB"
      },
      "execution_count": null,
      "outputs": []
    },
    {
      "cell_type": "markdown",
      "source": [
        "## 문제)숫자형자료 변수"
      ],
      "metadata": {
        "id": "rj0RJyzxxCn6"
      }
    },
    {
      "cell_type": "markdown",
      "source": [
        "* K씨의 성적은 국어 95점, 수학 50점, 영어 70점이다. \n",
        "* K씨의 평균 점수를 구하라\n",
        "단, 국어 kor, 수학 math, 영어 eng 변수에 할당하고\n",
        "* 결과값은 score 변수에 할당하여 결과값을 출력하라."
      ],
      "metadata": {
        "id": "lIHETdYWxGNm"
      }
    },
    {
      "cell_type": "code",
      "source": [
        "kor = 85\n",
        "math = 50 \n",
        "eng = 75\n",
        "score = (kor + math + eng)/3\n",
        "print(score)"
      ],
      "metadata": {
        "id": "nl64c1fxxMf1"
      },
      "execution_count": null,
      "outputs": []
    },
    {
      "cell_type": "markdown",
      "source": [
        "## 문제) 논리 연산자가 아닌 것을 모두 고르시오."
      ],
      "metadata": {
        "id": "pFLvEpbnxbcE"
      }
    },
    {
      "cell_type": "markdown",
      "source": [
        "* 1 and 2 or 3 not 4 nor 5 xor 6 equal"
      ],
      "metadata": {
        "id": "NlZLBTtIxfGz"
      }
    },
    {
      "cell_type": "markdown",
      "source": [
        "* 답 4, 5, 6"
      ],
      "metadata": {
        "id": "oY10XvIwxp2N"
      }
    },
    {
      "cell_type": "markdown",
      "source": [
        "# 문제) 입력한 숫자가 10과 비교하여 큰 수를 출력하는 프로그램을 작성하라."
      ],
      "metadata": {
        "id": "22AonpXGxzmx"
      }
    },
    {
      "cell_type": "markdown",
      "source": [
        "* num1 변수에는 10을 할당\n",
        "* num2 변수에 대화형식으로 입력한 값을 할당\n",
        "* 결과값은 '10과 {입력한 수} 중 큰 수는 {결과값}이다.' 가 나오도록 하시오."
      ],
      "metadata": {
        "id": "cpEwxHJvx1uG"
      }
    },
    {
      "cell_type": "code",
      "source": [
        "num1 = 10\n",
        "num2 = int(input())\n",
        "\n",
        "a=0\n",
        "\n",
        "if num1>num2:\n",
        "    a=num1\n",
        "else:\n",
        "    a=num2\n",
        "\n",
        "print('{}과(와) {} 중 큰 수는 {}이다.'.format(num1,num2, num1 if num1>num2 else num2))\n",
        "print(a)"
      ],
      "metadata": {
        "id": "n9ieEUBrx54K"
      },
      "execution_count": null,
      "outputs": []
    }
  ]
}